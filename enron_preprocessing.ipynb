{
  "nbformat": 4,
  "nbformat_minor": 0,
  "metadata": {
    "colab": {
      "name": "enron_preprocessing",
      "provenance": [],
      "machine_shape": "hm",
      "include_colab_link": true
    },
    "kernelspec": {
      "name": "python3",
      "display_name": "Python 3"
    },
    "accelerator": "GPU"
  },
  "cells": [
    {
      "cell_type": "markdown",
      "metadata": {
        "id": "view-in-github",
        "colab_type": "text"
      },
      "source": [
        "<a href=\"https://colab.research.google.com/github/marcoullmann/enron/blob/master/enron_preprocessing.ipynb\" target=\"_parent\"><img src=\"https://colab.research.google.com/assets/colab-badge.svg\" alt=\"Open In Colab\"/></a>"
      ]
    },
    {
      "cell_type": "markdown",
      "metadata": {
        "id": "R2sceiynI14N",
        "colab_type": "text"
      },
      "source": [
        "Data downloaded from https://www.kaggle.com/wcukierski/enron-email-dataset\n",
        "\n",
        "Data preprocessing taken form: https://www.kaggle.com/zichen/explore-enron#1.-Loading-and-cleaning-data"
      ]
    },
    {
      "cell_type": "code",
      "metadata": {
        "id": "J9s4Y_7dG7-O",
        "colab_type": "code",
        "outputId": "6d1d1542-c079-4a93-89ef-ff3ab60da8f5",
        "colab": {
          "base_uri": "https://localhost:8080/",
          "height": 52
        }
      },
      "source": [
        "from google.colab import drive\n",
        "drive.mount('/content/drive')\n",
        "%cd \"/content/drive/My Drive/Colab Notebooks/enron/\""
      ],
      "execution_count": 0,
      "outputs": [
        {
          "output_type": "stream",
          "text": [
            "Drive already mounted at /content/drive; to attempt to forcibly remount, call drive.mount(\"/content/drive\", force_remount=True).\n",
            "/content/drive/My Drive/Colab Notebooks/enron\n"
          ],
          "name": "stdout"
        }
      ]
    },
    {
      "cell_type": "code",
      "metadata": {
        "id": "OGrxY3pSHtQ1",
        "colab_type": "code",
        "outputId": "e56d85be-2f4b-4fe2-9447-daef8fe8ce4e",
        "colab": {
          "base_uri": "https://localhost:8080/",
          "height": 52
        }
      },
      "source": [
        "import os, sys, email, re\n",
        "import numpy as np \n",
        "import pandas as pd\n",
        "# Plotting\n",
        "import matplotlib.pyplot as plt\n",
        "%matplotlib inline\n",
        "import seaborn as sns; sns.set_style('whitegrid')\n",
        "#import plotly\n",
        "#plotly.offline.init_notebook_mode()\n",
        "#import plotly.graph_objs as go\n",
        "import wordcloud\n",
        "\n",
        "# Network analysis\n",
        "import networkx as nx\n",
        "# NLP\n",
        "import nltk\n",
        "nltk.download('stopwords')\n",
        "from nltk.tokenize.regexp import RegexpTokenizer\n",
        "from nltk.corpus import stopwords\n",
        "\n",
        "\n",
        "# Gensim\n",
        "import gensim\n",
        "import gensim.corpora as corpora\n",
        "from gensim.utils import simple_preprocess\n",
        "from gensim.models import CoherenceModel\n",
        "\n",
        "# spacy for lemmatization\n",
        "import spacy\n",
        "nlp = spacy.load('en', disable=['parser', 'ner'])\n",
        "\n",
        "import glob"
      ],
      "execution_count": 0,
      "outputs": [
        {
          "output_type": "stream",
          "text": [
            "[nltk_data] Downloading package stopwords to /root/nltk_data...\n",
            "[nltk_data]   Package stopwords is already up-to-date!\n"
          ],
          "name": "stdout"
        }
      ]
    },
    {
      "cell_type": "code",
      "metadata": {
        "id": "VUhVsYvhH8Rj",
        "colab_type": "code",
        "outputId": "bd375921-6ecd-4bfb-a5d8-c17ebaa9fafe",
        "colab": {
          "base_uri": "https://localhost:8080/",
          "height": 213
        }
      },
      "source": [
        "# Read the data into a DataFrame\n",
        "emails_df = pd.read_csv('./data/emails.csv')\n",
        "print(emails_df.shape)\n",
        "emails_df.head()"
      ],
      "execution_count": 0,
      "outputs": [
        {
          "output_type": "stream",
          "text": [
            "(517401, 2)\n"
          ],
          "name": "stdout"
        },
        {
          "output_type": "execute_result",
          "data": {
            "text/html": [
              "<div>\n",
              "<style scoped>\n",
              "    .dataframe tbody tr th:only-of-type {\n",
              "        vertical-align: middle;\n",
              "    }\n",
              "\n",
              "    .dataframe tbody tr th {\n",
              "        vertical-align: top;\n",
              "    }\n",
              "\n",
              "    .dataframe thead th {\n",
              "        text-align: right;\n",
              "    }\n",
              "</style>\n",
              "<table border=\"1\" class=\"dataframe\">\n",
              "  <thead>\n",
              "    <tr style=\"text-align: right;\">\n",
              "      <th></th>\n",
              "      <th>file</th>\n",
              "      <th>message</th>\n",
              "    </tr>\n",
              "  </thead>\n",
              "  <tbody>\n",
              "    <tr>\n",
              "      <th>0</th>\n",
              "      <td>allen-p/_sent_mail/1.</td>\n",
              "      <td>Message-ID: &lt;18782981.1075855378110.JavaMail.e...</td>\n",
              "    </tr>\n",
              "    <tr>\n",
              "      <th>1</th>\n",
              "      <td>allen-p/_sent_mail/10.</td>\n",
              "      <td>Message-ID: &lt;15464986.1075855378456.JavaMail.e...</td>\n",
              "    </tr>\n",
              "    <tr>\n",
              "      <th>2</th>\n",
              "      <td>allen-p/_sent_mail/100.</td>\n",
              "      <td>Message-ID: &lt;24216240.1075855687451.JavaMail.e...</td>\n",
              "    </tr>\n",
              "    <tr>\n",
              "      <th>3</th>\n",
              "      <td>allen-p/_sent_mail/1000.</td>\n",
              "      <td>Message-ID: &lt;13505866.1075863688222.JavaMail.e...</td>\n",
              "    </tr>\n",
              "    <tr>\n",
              "      <th>4</th>\n",
              "      <td>allen-p/_sent_mail/1001.</td>\n",
              "      <td>Message-ID: &lt;30922949.1075863688243.JavaMail.e...</td>\n",
              "    </tr>\n",
              "  </tbody>\n",
              "</table>\n",
              "</div>"
            ],
            "text/plain": [
              "                       file                                            message\n",
              "0     allen-p/_sent_mail/1.  Message-ID: <18782981.1075855378110.JavaMail.e...\n",
              "1    allen-p/_sent_mail/10.  Message-ID: <15464986.1075855378456.JavaMail.e...\n",
              "2   allen-p/_sent_mail/100.  Message-ID: <24216240.1075855687451.JavaMail.e...\n",
              "3  allen-p/_sent_mail/1000.  Message-ID: <13505866.1075863688222.JavaMail.e...\n",
              "4  allen-p/_sent_mail/1001.  Message-ID: <30922949.1075863688243.JavaMail.e..."
            ]
          },
          "metadata": {
            "tags": []
          },
          "execution_count": 3
        }
      ]
    },
    {
      "cell_type": "code",
      "metadata": {
        "id": "w5QXuv4QIQgn",
        "colab_type": "code",
        "outputId": "eabe83da-1217-45e6-c14b-06d79a248e57",
        "colab": {
          "base_uri": "https://localhost:8080/",
          "height": 351
        }
      },
      "source": [
        "# A single message looks like this\n",
        "print(emails_df['message'][0])"
      ],
      "execution_count": 0,
      "outputs": [
        {
          "output_type": "stream",
          "text": [
            "Message-ID: <18782981.1075855378110.JavaMail.evans@thyme>\n",
            "Date: Mon, 14 May 2001 16:39:00 -0700 (PDT)\n",
            "From: phillip.allen@enron.com\n",
            "To: tim.belden@enron.com\n",
            "Subject: \n",
            "Mime-Version: 1.0\n",
            "Content-Type: text/plain; charset=us-ascii\n",
            "Content-Transfer-Encoding: 7bit\n",
            "X-From: Phillip K Allen\n",
            "X-To: Tim Belden <Tim Belden/Enron@EnronXGate>\n",
            "X-cc: \n",
            "X-bcc: \n",
            "X-Folder: \\Phillip_Allen_Jan2002_1\\Allen, Phillip K.\\'Sent Mail\n",
            "X-Origin: Allen-P\n",
            "X-FileName: pallen (Non-Privileged).pst\n",
            "\n",
            "Here is our forecast\n",
            "\n",
            " \n"
          ],
          "name": "stdout"
        }
      ]
    },
    {
      "cell_type": "code",
      "metadata": {
        "id": "wgROgjDvIYAG",
        "colab_type": "code",
        "colab": {}
      },
      "source": [
        "## Helper functions\n",
        "def get_text_from_email(msg):\n",
        "    '''To get the content from email objects'''\n",
        "    parts = []\n",
        "    for part in msg.walk():\n",
        "        if part.get_content_type() == 'text/plain':\n",
        "            parts.append( part.get_payload() )\n",
        "    return ''.join(parts)\n",
        "\n",
        "def split_email_addresses(line):\n",
        "    '''To separate multiple email addresses'''\n",
        "    if line:\n",
        "        addrs = line.split(',')\n",
        "        addrs = set(map(lambda x: x.strip(), addrs))\n",
        "    else:\n",
        "        addrs = None\n",
        "    return addrs"
      ],
      "execution_count": 0,
      "outputs": []
    },
    {
      "cell_type": "code",
      "metadata": {
        "id": "_s717lhIIdcE",
        "colab_type": "code",
        "outputId": "1423d968-c208-4e25-e2ae-f7db968ef70e",
        "colab": {
          "base_uri": "https://localhost:8080/",
          "height": 669
        }
      },
      "source": [
        "# Parse the emails into a list email objects\n",
        "messages = list(map(email.message_from_string, emails_df['message']))\n",
        "emails_df.drop('message', axis=1, inplace=True)\n",
        "# Get fields from parsed email objects\n",
        "keys = messages[0].keys()\n",
        "for key in keys:\n",
        "    emails_df[key] = [doc[key] for doc in messages]\n",
        "# Parse content from emails\n",
        "emails_df['content'] = list(map(get_text_from_email, messages))\n",
        "# Split multiple email addresses\n",
        "emails_df['From'] = emails_df['From'].map(split_email_addresses)\n",
        "emails_df['To'] = emails_df['To'].map(split_email_addresses)\n",
        "\n",
        "# Extract the root of 'file' as 'user'\n",
        "emails_df['user'] = emails_df['file'].map(lambda x:x.split('/')[0])\n",
        "del messages\n",
        "\n",
        "emails_df.head()"
      ],
      "execution_count": 0,
      "outputs": [
        {
          "output_type": "execute_result",
          "data": {
            "text/html": [
              "<div>\n",
              "<style scoped>\n",
              "    .dataframe tbody tr th:only-of-type {\n",
              "        vertical-align: middle;\n",
              "    }\n",
              "\n",
              "    .dataframe tbody tr th {\n",
              "        vertical-align: top;\n",
              "    }\n",
              "\n",
              "    .dataframe thead th {\n",
              "        text-align: right;\n",
              "    }\n",
              "</style>\n",
              "<table border=\"1\" class=\"dataframe\">\n",
              "  <thead>\n",
              "    <tr style=\"text-align: right;\">\n",
              "      <th></th>\n",
              "      <th>file</th>\n",
              "      <th>Message-ID</th>\n",
              "      <th>Date</th>\n",
              "      <th>From</th>\n",
              "      <th>To</th>\n",
              "      <th>Subject</th>\n",
              "      <th>Mime-Version</th>\n",
              "      <th>Content-Type</th>\n",
              "      <th>Content-Transfer-Encoding</th>\n",
              "      <th>X-From</th>\n",
              "      <th>X-To</th>\n",
              "      <th>X-cc</th>\n",
              "      <th>X-bcc</th>\n",
              "      <th>X-Folder</th>\n",
              "      <th>X-Origin</th>\n",
              "      <th>X-FileName</th>\n",
              "      <th>content</th>\n",
              "      <th>user</th>\n",
              "    </tr>\n",
              "  </thead>\n",
              "  <tbody>\n",
              "    <tr>\n",
              "      <th>0</th>\n",
              "      <td>allen-p/_sent_mail/1.</td>\n",
              "      <td>&lt;18782981.1075855378110.JavaMail.evans@thyme&gt;</td>\n",
              "      <td>Mon, 14 May 2001 16:39:00 -0700 (PDT)</td>\n",
              "      <td>{phillip.allen@enron.com}</td>\n",
              "      <td>{tim.belden@enron.com}</td>\n",
              "      <td></td>\n",
              "      <td>1.0</td>\n",
              "      <td>text/plain; charset=us-ascii</td>\n",
              "      <td>7bit</td>\n",
              "      <td>Phillip K Allen</td>\n",
              "      <td>Tim Belden &lt;Tim Belden/Enron@EnronXGate&gt;</td>\n",
              "      <td></td>\n",
              "      <td></td>\n",
              "      <td>\\Phillip_Allen_Jan2002_1\\Allen, Phillip K.\\'Se...</td>\n",
              "      <td>Allen-P</td>\n",
              "      <td>pallen (Non-Privileged).pst</td>\n",
              "      <td>Here is our forecast\\n\\n</td>\n",
              "      <td>allen-p</td>\n",
              "    </tr>\n",
              "    <tr>\n",
              "      <th>1</th>\n",
              "      <td>allen-p/_sent_mail/10.</td>\n",
              "      <td>&lt;15464986.1075855378456.JavaMail.evans@thyme&gt;</td>\n",
              "      <td>Fri, 4 May 2001 13:51:00 -0700 (PDT)</td>\n",
              "      <td>{phillip.allen@enron.com}</td>\n",
              "      <td>{john.lavorato@enron.com}</td>\n",
              "      <td>Re:</td>\n",
              "      <td>1.0</td>\n",
              "      <td>text/plain; charset=us-ascii</td>\n",
              "      <td>7bit</td>\n",
              "      <td>Phillip K Allen</td>\n",
              "      <td>John J Lavorato &lt;John J Lavorato/ENRON@enronXg...</td>\n",
              "      <td></td>\n",
              "      <td></td>\n",
              "      <td>\\Phillip_Allen_Jan2002_1\\Allen, Phillip K.\\'Se...</td>\n",
              "      <td>Allen-P</td>\n",
              "      <td>pallen (Non-Privileged).pst</td>\n",
              "      <td>Traveling to have a business meeting takes the...</td>\n",
              "      <td>allen-p</td>\n",
              "    </tr>\n",
              "    <tr>\n",
              "      <th>2</th>\n",
              "      <td>allen-p/_sent_mail/100.</td>\n",
              "      <td>&lt;24216240.1075855687451.JavaMail.evans@thyme&gt;</td>\n",
              "      <td>Wed, 18 Oct 2000 03:00:00 -0700 (PDT)</td>\n",
              "      <td>{phillip.allen@enron.com}</td>\n",
              "      <td>{leah.arsdall@enron.com}</td>\n",
              "      <td>Re: test</td>\n",
              "      <td>1.0</td>\n",
              "      <td>text/plain; charset=us-ascii</td>\n",
              "      <td>7bit</td>\n",
              "      <td>Phillip K Allen</td>\n",
              "      <td>Leah Van Arsdall</td>\n",
              "      <td></td>\n",
              "      <td></td>\n",
              "      <td>\\Phillip_Allen_Dec2000\\Notes Folders\\'sent mail</td>\n",
              "      <td>Allen-P</td>\n",
              "      <td>pallen.nsf</td>\n",
              "      <td>test successful.  way to go!!!</td>\n",
              "      <td>allen-p</td>\n",
              "    </tr>\n",
              "    <tr>\n",
              "      <th>3</th>\n",
              "      <td>allen-p/_sent_mail/1000.</td>\n",
              "      <td>&lt;13505866.1075863688222.JavaMail.evans@thyme&gt;</td>\n",
              "      <td>Mon, 23 Oct 2000 06:13:00 -0700 (PDT)</td>\n",
              "      <td>{phillip.allen@enron.com}</td>\n",
              "      <td>{randall.gay@enron.com}</td>\n",
              "      <td></td>\n",
              "      <td>1.0</td>\n",
              "      <td>text/plain; charset=us-ascii</td>\n",
              "      <td>7bit</td>\n",
              "      <td>Phillip K Allen</td>\n",
              "      <td>Randall L Gay</td>\n",
              "      <td></td>\n",
              "      <td></td>\n",
              "      <td>\\Phillip_Allen_Dec2000\\Notes Folders\\'sent mail</td>\n",
              "      <td>Allen-P</td>\n",
              "      <td>pallen.nsf</td>\n",
              "      <td>Randy,\\n\\n Can you send me a schedule of the s...</td>\n",
              "      <td>allen-p</td>\n",
              "    </tr>\n",
              "    <tr>\n",
              "      <th>4</th>\n",
              "      <td>allen-p/_sent_mail/1001.</td>\n",
              "      <td>&lt;30922949.1075863688243.JavaMail.evans@thyme&gt;</td>\n",
              "      <td>Thu, 31 Aug 2000 05:07:00 -0700 (PDT)</td>\n",
              "      <td>{phillip.allen@enron.com}</td>\n",
              "      <td>{greg.piper@enron.com}</td>\n",
              "      <td>Re: Hello</td>\n",
              "      <td>1.0</td>\n",
              "      <td>text/plain; charset=us-ascii</td>\n",
              "      <td>7bit</td>\n",
              "      <td>Phillip K Allen</td>\n",
              "      <td>Greg Piper</td>\n",
              "      <td></td>\n",
              "      <td></td>\n",
              "      <td>\\Phillip_Allen_Dec2000\\Notes Folders\\'sent mail</td>\n",
              "      <td>Allen-P</td>\n",
              "      <td>pallen.nsf</td>\n",
              "      <td>Let's shoot for Tuesday at 11:45.</td>\n",
              "      <td>allen-p</td>\n",
              "    </tr>\n",
              "  </tbody>\n",
              "</table>\n",
              "</div>"
            ],
            "text/plain": [
              "                       file  ...     user\n",
              "0     allen-p/_sent_mail/1.  ...  allen-p\n",
              "1    allen-p/_sent_mail/10.  ...  allen-p\n",
              "2   allen-p/_sent_mail/100.  ...  allen-p\n",
              "3  allen-p/_sent_mail/1000.  ...  allen-p\n",
              "4  allen-p/_sent_mail/1001.  ...  allen-p\n",
              "\n",
              "[5 rows x 18 columns]"
            ]
          },
          "metadata": {
            "tags": []
          },
          "execution_count": 5
        }
      ]
    },
    {
      "cell_type": "code",
      "metadata": {
        "id": "vq8fM5vSI0dd",
        "colab_type": "code",
        "outputId": "2cfc7dee-abbe-4d3f-804a-4d68013cfc2d",
        "colab": {
          "base_uri": "https://localhost:8080/",
          "height": 351
        }
      },
      "source": [
        "print('shape of the dataframe:', emails_df.shape)\n",
        "# Find number of unique values in each columns\n",
        "for col in emails_df.columns:\n",
        "    print(col, emails_df[col].nunique())"
      ],
      "execution_count": 0,
      "outputs": [
        {
          "output_type": "stream",
          "text": [
            "shape of the dataframe: (517401, 18)\n",
            "file 517401\n",
            "Message-ID 517401\n",
            "Date 224128\n",
            "From 20328\n",
            "To 54748\n",
            "Subject 159290\n",
            "Mime-Version 1\n",
            "Content-Type 2\n",
            "Content-Transfer-Encoding 3\n",
            "X-From 27980\n",
            "X-To 73552\n",
            "X-cc 33701\n",
            "X-bcc 132\n",
            "X-Folder 5335\n",
            "X-Origin 259\n",
            "X-FileName 429\n",
            "content 249025\n",
            "user 150\n"
          ],
          "name": "stdout"
        }
      ]
    },
    {
      "cell_type": "code",
      "metadata": {
        "id": "2D9SmSu5JjRp",
        "colab_type": "code",
        "outputId": "7b1c403e-4471-4578-d713-b8b3ec8fc36d",
        "colab": {
          "base_uri": "https://localhost:8080/",
          "height": 263
        }
      },
      "source": [
        "# Set index and drop columns with two few values\n",
        "emails_df = emails_df.set_index('Message-ID')\\\n",
        "    .drop(['file', 'Mime-Version', 'Content-Type', 'Content-Transfer-Encoding'], axis=1)\n",
        "# Parse datetime\n",
        "emails_df['Date'] = pd.to_datetime(emails_df['Date'], infer_datetime_format=True)\n",
        "emails_df.dtypes"
      ],
      "execution_count": 0,
      "outputs": [
        {
          "output_type": "execute_result",
          "data": {
            "text/plain": [
              "Date          object\n",
              "From          object\n",
              "To            object\n",
              "Subject       object\n",
              "X-From        object\n",
              "X-To          object\n",
              "X-cc          object\n",
              "X-bcc         object\n",
              "X-Folder      object\n",
              "X-Origin      object\n",
              "X-FileName    object\n",
              "content       object\n",
              "user          object\n",
              "dtype: object"
            ]
          },
          "metadata": {
            "tags": []
          },
          "execution_count": 6
        }
      ]
    },
    {
      "cell_type": "code",
      "metadata": {
        "id": "aoeI57vbQv7Z",
        "colab_type": "code",
        "colab": {}
      },
      "source": [
        "def normalize(text):\n",
        "  text = clean_text(text)\n",
        "  tokens = tokenize(text)\n",
        "  norm = remove_stopwords(tokens)\n",
        "  return norm\n",
        "\n",
        "def tokenize(text):\n",
        "  words = gensim.utils.simple_preprocess(str(text), deacc=True)\n",
        "  return words\n",
        "\n",
        "def remove_stopwords(tokens):\n",
        "  eng_stopwords = set(stopwords.words('english'))\n",
        "  eng_stopwords.update((\"www\",\"com\",\"image\", \"hou\",\"ect\", \"pm\", \"am\", \"to\",\"cc\",\"subject\",\"http\",\"from\",\"sent\",\"aaaaaaaaaaaaaaaaaaaaaaaaaaaaaaaaaaaaaaaaaaaaaaaaaaaaaaaaaaaaaaaaaaaaaaaaaaaa\"))\n",
        "  non_stop_words = [word for word in tokens if(word not in eng_stopwords)]\n",
        "  return non_stop_words\n",
        "\n",
        "def clean_text(text):\n",
        "    text = re.sub(r'[^a-zA-Z]', ' ', text)\n",
        "    text = text.strip()\n",
        "    text = text.lower()\n",
        "    return text\n",
        "\n",
        "def get_trigrams(words):\n",
        "    return trigram_mod[bigram_mod[words]]\n",
        "\n",
        "def lemmatization(words, allowed_postags=['NOUN', 'ADJ', 'VERB', 'ADV']):\n",
        "    doc = nlp(\" \".join(words)) \n",
        "    texts_out = [token.lemma_ for token in doc if token.pos_ in allowed_postags]\n",
        "    return texts_out"
      ],
      "execution_count": 0,
      "outputs": []
    },
    {
      "cell_type": "code",
      "metadata": {
        "id": "HNxiN5XuA9be",
        "colab_type": "code",
        "colab": {}
      },
      "source": [
        ""
      ],
      "execution_count": 0,
      "outputs": []
    },
    {
      "cell_type": "code",
      "metadata": {
        "id": "sO8WozgPpHGC",
        "colab_type": "code",
        "outputId": "94bd6211-fc10-46c1-a4d8-45746c9a9e66",
        "colab": {
          "base_uri": "https://localhost:8080/",
          "height": 54
        }
      },
      "source": [
        "# See trigram example\n",
        "print(trigram_mod[bigram_mod[emails_df['norm_content'][1012]]])"
      ],
      "execution_count": 0,
      "outputs": [
        {
          "output_type": "stream",
          "text": [
            "['jacques', 'george', 'finally', 'information', 'please', 'look', 'email', 'wants', 'us', 'buy', 'keith', 'think', 'joke', 'still', 'need', 'speak', 'engineer', 'find', 'soil', 'study', 'determine', 'value', 'going', 'forward', 'believe', 'architect', 'work', 'use', 'us', 'think', 'deserve', 'compensation', 'time', 'due', 'fact', 'intentional', 'project', 'proposing', 'unsupportable', 'market', 'version', 'buyout', 'attached', 'need', 'expert', 'advise', 'ready', 'offer', 'version', 'threaten', 'foreclose', 'case', 'due', 'money', 'time', 'since', 'cost', 'fees', 'hold', 'versus', 'market', 'execute', 'contract', 'think', 'would', 'stand', 'chance', 'time', 'waste', 'want', 'respond', 'offer', 'asap', 'call', 'thoughts', 'phillip', 'forwarded', 'phillip_allen', 'hou', 'ect', 'george_richards_cbpres', 'austin', 'rr', 'com', 'pm', 'please', 'respond_cbpres_austin', 'rr', 'com', 'phillip_allen_pallen', 'enron', 'com', 'keith_holst_kholst', 'enron', 'com', 'larry_lewter_llewter_austin', 'rr', 'com', 'claudia_crocker_clclegal_aol', 'com', 'bishops_corner_ltd', 'buyout', 'image', 'image', 'horseshoe_ledge_austin', 'tx', 'telephone', 'fax', 'mail', 'cbpres_austin_rr', 'com', 'march', 'phillip_allen', 'keith_holst', 'enron', 'smith', 'street', 'houston', 'tx', 'bishops_corner_ltd', 'restructure', 'buyout', 'dear', 'phillip', 'keith', 'prepared', 'sell', 'bishops_corner_ltd', 'reimbursement', 'cash', 'expenditures', 'compensation', 'management', 'services', 'assumption', 'note', 'obligations', 'design', 'contracts', 'shown', 'attached', 'summary', 'table', 'cash', 'expenditures', 'total', 'existing', 'contracts', 'architect', 'civil_engineer_soils', 'testing', 'company', 'appraisal', 'total', 'due', 'contracts', 'current', 'unpaid', 'invoices', 'due', 'total', 'acting', 'good', 'faith', 'invested', 'enormous', 'amount', 'time', 'project', 'five', 'months', 'completed', 'major', 'design', 'pre', 'construction', 'elements', 'major', 'project', 'firm', 'size', 'given', 'top', 'priority', 'projects', 'delayed', 'rejected', 'left', 'project', 'pursue', 'two', 'methods', 'valuing', 'development', 'management', 'based', 'percentage', 'minimum', 'mm', 'fee', 'earned', 'based', 'prior', 'valuation', 'time', 'first', 'feel', 'least', 'minimum', 'mm', 'fee', 'earned', 'date', 'second', 'prior', 'correspondence', 'valued', 'time', 'per', 'year', 'would', 'mean', 'period', 'worth', 'either', 'valuations', 'seem', 'quite', 'fair', 'reasonable', 'especially', 'neither', 'includes', 'forfeit', 'interest', 'project', 'worth', 'mm', 'however', 'hope', 'maintain', 'good', 'relationship', 'prospect', 'future', 'projects', 'willing', 'accept', 'small', 'monthly', 'fee', 'per', 'month', 'cover', 'portion', 'direct', 'time', 'overhead', 'shown', 'attached', 'table', 'fee', 'plus', 'cash', 'outlays', 'less', 'accrued', 'interest', 'brings', 'total', 'net', 'buyout', 'still', 'believe', 'project', 'needs', 'professional', 'services', 'offer', 'provided', 'however', 'accept', 'terms', 'buyout', 'offer', 'truly', 'feel', 'quite', 'fair', 'reasonable', 'prepared', 'bought', 'leave', 'extraordinary', 'project', 'choice', 'either', 'contact', 'us', 'attorney', 'contact', 'attorney', 'claudia_crocker', 'later', 'friday', 'week', 'attorneys', 'draft', 'whatever', 'minimal', 'documents', 'necessary', 'transfer', 'bishops_corner_ltd', 'partnership', 'following', 'receipt', 'buyout', 'amount', 'assumption', 'outstanding', 'professional', 'design', 'contracts', 'thank', 'sincerely', 'image', 'george', 'richards', 'president', 'copies', 'contracts', 'forwarded', 'upon', 'acceptance', 'buyout_larry_lewter', 'claudia_crocker', 'image', 'wmz', 'image', 'gif', 'image', 'png', 'image', 'gif', 'header_htm_oledata', 'mso', 'restructure', 'buyout', 'xls']\n"
          ],
          "name": "stdout"
        }
      ]
    },
    {
      "cell_type": "code",
      "metadata": {
        "id": "H6P5-Mo6IluG",
        "colab_type": "code",
        "colab": {}
      },
      "source": [
        "# emails_df = emails_df[:10000].copy() #only use 10'000 mails"
      ],
      "execution_count": 0,
      "outputs": []
    },
    {
      "cell_type": "code",
      "metadata": {
        "id": "K9HYHp_EUMzs",
        "colab_type": "code",
        "outputId": "c73b1865-e57e-458e-a40c-979341c290a9",
        "colab": {
          "base_uri": "https://localhost:8080/",
          "height": 34
        }
      },
      "source": [
        "emails_df.shape"
      ],
      "execution_count": 0,
      "outputs": [
        {
          "output_type": "execute_result",
          "data": {
            "text/plain": [
              "(517401, 17)"
            ]
          },
          "metadata": {
            "tags": []
          },
          "execution_count": 9
        }
      ]
    },
    {
      "cell_type": "code",
      "metadata": {
        "id": "Gb1fegqopZnF",
        "colab_type": "code",
        "colab": {}
      },
      "source": [
        "emails_df['norm_subject'] = emails_df['Subject'].map(lambda text:normalize(text))\n",
        "emails_df['norm_content'] = emails_df['content'].map(lambda text:normalize(text))\n",
        "emails_df['lemma_content'] = emails_df['norm_content'].map(lambda words:lemmatization(words))"
      ],
      "execution_count": 0,
      "outputs": []
    },
    {
      "cell_type": "code",
      "metadata": {
        "id": "yBfrES4LpFDu",
        "colab_type": "code",
        "outputId": "9e8223cc-8c37-49e1-d370-f839131f8622",
        "colab": {
          "base_uri": "https://localhost:8080/",
          "height": 52
        }
      },
      "source": [
        "# Build the bigram and trigram models\n",
        "bigram = gensim.models.Phrases(emails_df['lemma_content'], min_count=5, threshold=100) # higher threshold fewer phrases.\n",
        "trigram = gensim.models.Phrases(bigram[emails_df['lemma_content']], threshold=100)  \n",
        "\n",
        "# Faster way to get a sentence clubbed as a trigram/bigram\n",
        "bigram_mod = gensim.models.phrases.Phraser(bigram)\n",
        "trigram_mod = gensim.models.phrases.Phraser(trigram)"
      ],
      "execution_count": 0,
      "outputs": [
        {
          "output_type": "stream",
          "text": [
            "/usr/local/lib/python3.6/dist-packages/gensim/models/phrases.py:598: UserWarning: For a faster implementation, use the gensim.models.phrases.Phraser class\n",
            "  warnings.warn(\"For a faster implementation, use the gensim.models.phrases.Phraser class\")\n"
          ],
          "name": "stderr"
        }
      ]
    },
    {
      "cell_type": "code",
      "metadata": {
        "id": "5M62iF2IJ0v5",
        "colab_type": "code",
        "colab": {}
      },
      "source": [
        "emails_df['trigram_lemma_content'] = emails_df['lemma_content'].map(lambda words:get_trigrams(words))"
      ],
      "execution_count": 0,
      "outputs": []
    },
    {
      "cell_type": "code",
      "metadata": {
        "id": "MOsXCi03ORDC",
        "colab_type": "code",
        "colab": {}
      },
      "source": [
        "for i,d in enumerate(np.array_split(emails_df, 5)):\n",
        "     d.to_pickle('./data/emails_df_' + str(i) + \".pkl\")"
      ],
      "execution_count": 0,
      "outputs": []
    },
    {
      "cell_type": "code",
      "metadata": {
        "id": "uKSeTQpNV8P8",
        "colab_type": "code",
        "colab": {}
      },
      "source": [
        "files = glob.glob(\"./data/emails_df_*.pkl\")\n",
        "emails_df = pd.concat([pd.read_pickle(file) for file in files])"
      ],
      "execution_count": 0,
      "outputs": []
    },
    {
      "cell_type": "code",
      "metadata": {
        "id": "hSqsIVRWSlc4",
        "colab_type": "code",
        "colab": {}
      },
      "source": [
        "pd.reset_option('display.max_rows')\n",
        "pd.reset_option('display.max_colwidth')"
      ],
      "execution_count": 0,
      "outputs": []
    },
    {
      "cell_type": "code",
      "metadata": {
        "id": "h4G21de0MnNC",
        "colab_type": "code",
        "colab": {}
      },
      "source": [
        "pd.set_option('display.max_colwidth', -1)\n",
        "pd.set_option('display.max_rows', -1)"
      ],
      "execution_count": 0,
      "outputs": []
    },
    {
      "cell_type": "code",
      "metadata": {
        "id": "x3aD337ukjmI",
        "colab_type": "code",
        "outputId": "5ea32e03-2cde-47a5-cbcd-7bbd59de843d",
        "colab": {
          "base_uri": "https://localhost:8080/",
          "height": 1000
        }
      },
      "source": [
        "emails_df"
      ],
      "execution_count": 0,
      "outputs": [
        {
          "output_type": "execute_result",
          "data": {
            "text/html": [
              "<div>\n",
              "<style scoped>\n",
              "    .dataframe tbody tr th:only-of-type {\n",
              "        vertical-align: middle;\n",
              "    }\n",
              "\n",
              "    .dataframe tbody tr th {\n",
              "        vertical-align: top;\n",
              "    }\n",
              "\n",
              "    .dataframe thead th {\n",
              "        text-align: right;\n",
              "    }\n",
              "</style>\n",
              "<table border=\"1\" class=\"dataframe\">\n",
              "  <thead>\n",
              "    <tr style=\"text-align: right;\">\n",
              "      <th></th>\n",
              "      <th>Date</th>\n",
              "      <th>From</th>\n",
              "      <th>To</th>\n",
              "      <th>Subject</th>\n",
              "      <th>X-From</th>\n",
              "      <th>X-To</th>\n",
              "      <th>X-cc</th>\n",
              "      <th>X-bcc</th>\n",
              "      <th>X-Folder</th>\n",
              "      <th>X-Origin</th>\n",
              "      <th>X-FileName</th>\n",
              "      <th>content</th>\n",
              "      <th>user</th>\n",
              "      <th>norm_subject</th>\n",
              "      <th>norm_content</th>\n",
              "      <th>lemma_content</th>\n",
              "      <th>trigram_lemma_content</th>\n",
              "    </tr>\n",
              "    <tr>\n",
              "      <th>Message-ID</th>\n",
              "      <th></th>\n",
              "      <th></th>\n",
              "      <th></th>\n",
              "      <th></th>\n",
              "      <th></th>\n",
              "      <th></th>\n",
              "      <th></th>\n",
              "      <th></th>\n",
              "      <th></th>\n",
              "      <th></th>\n",
              "      <th></th>\n",
              "      <th></th>\n",
              "      <th></th>\n",
              "      <th></th>\n",
              "      <th></th>\n",
              "      <th></th>\n",
              "      <th></th>\n",
              "    </tr>\n",
              "  </thead>\n",
              "  <tbody>\n",
              "    <tr>\n",
              "      <th>&lt;18782981.1075855378110.JavaMail.evans@thyme&gt;</th>\n",
              "      <td>2001-05-14 16:39:00-07:00</td>\n",
              "      <td>{phillip.allen@enron.com}</td>\n",
              "      <td>{tim.belden@enron.com}</td>\n",
              "      <td></td>\n",
              "      <td>Phillip K Allen</td>\n",
              "      <td>Tim Belden &lt;Tim Belden/Enron@EnronXGate&gt;</td>\n",
              "      <td></td>\n",
              "      <td></td>\n",
              "      <td>\\Phillip_Allen_Jan2002_1\\Allen, Phillip K.\\'Se...</td>\n",
              "      <td>Allen-P</td>\n",
              "      <td>pallen (Non-Privileged).pst</td>\n",
              "      <td>Here is our forecast\\n\\n</td>\n",
              "      <td>allen-p</td>\n",
              "      <td>[]</td>\n",
              "      <td>[forecast]</td>\n",
              "      <td>[forecast]</td>\n",
              "      <td>[forecast]</td>\n",
              "    </tr>\n",
              "    <tr>\n",
              "      <th>&lt;15464986.1075855378456.JavaMail.evans@thyme&gt;</th>\n",
              "      <td>2001-05-04 13:51:00-07:00</td>\n",
              "      <td>{phillip.allen@enron.com}</td>\n",
              "      <td>{john.lavorato@enron.com}</td>\n",
              "      <td>Re:</td>\n",
              "      <td>Phillip K Allen</td>\n",
              "      <td>John J Lavorato &lt;John J Lavorato/ENRON@enronXg...</td>\n",
              "      <td></td>\n",
              "      <td></td>\n",
              "      <td>\\Phillip_Allen_Jan2002_1\\Allen, Phillip K.\\'Se...</td>\n",
              "      <td>Allen-P</td>\n",
              "      <td>pallen (Non-Privileged).pst</td>\n",
              "      <td>Traveling to have a business meeting takes the...</td>\n",
              "      <td>allen-p</td>\n",
              "      <td>[]</td>\n",
              "      <td>[traveling, business, meeting, takes, fun, tri...</td>\n",
              "      <td>[travel, business, meeting, take, fun, trip, e...</td>\n",
              "      <td>[travel, business, meeting, take, fun, trip, e...</td>\n",
              "    </tr>\n",
              "    <tr>\n",
              "      <th>&lt;24216240.1075855687451.JavaMail.evans@thyme&gt;</th>\n",
              "      <td>2000-10-18 03:00:00-07:00</td>\n",
              "      <td>{phillip.allen@enron.com}</td>\n",
              "      <td>{leah.arsdall@enron.com}</td>\n",
              "      <td>Re: test</td>\n",
              "      <td>Phillip K Allen</td>\n",
              "      <td>Leah Van Arsdall</td>\n",
              "      <td></td>\n",
              "      <td></td>\n",
              "      <td>\\Phillip_Allen_Dec2000\\Notes Folders\\'sent mail</td>\n",
              "      <td>Allen-P</td>\n",
              "      <td>pallen.nsf</td>\n",
              "      <td>test successful.  way to go!!!</td>\n",
              "      <td>allen-p</td>\n",
              "      <td>[test]</td>\n",
              "      <td>[test, successful, way, go]</td>\n",
              "      <td>[test, successful, way, go]</td>\n",
              "      <td>[test, successful, way, go]</td>\n",
              "    </tr>\n",
              "    <tr>\n",
              "      <th>&lt;13505866.1075863688222.JavaMail.evans@thyme&gt;</th>\n",
              "      <td>2000-10-23 06:13:00-07:00</td>\n",
              "      <td>{phillip.allen@enron.com}</td>\n",
              "      <td>{randall.gay@enron.com}</td>\n",
              "      <td></td>\n",
              "      <td>Phillip K Allen</td>\n",
              "      <td>Randall L Gay</td>\n",
              "      <td></td>\n",
              "      <td></td>\n",
              "      <td>\\Phillip_Allen_Dec2000\\Notes Folders\\'sent mail</td>\n",
              "      <td>Allen-P</td>\n",
              "      <td>pallen.nsf</td>\n",
              "      <td>Randy,\\n\\n Can you send me a schedule of the s...</td>\n",
              "      <td>allen-p</td>\n",
              "      <td>[]</td>\n",
              "      <td>[randy, send, schedule, salary, level, everyon...</td>\n",
              "      <td>[randy, send, schedule, salary, level, everyon...</td>\n",
              "      <td>[randy, send, schedule, salary, level, everyon...</td>\n",
              "    </tr>\n",
              "    <tr>\n",
              "      <th>&lt;30922949.1075863688243.JavaMail.evans@thyme&gt;</th>\n",
              "      <td>2000-08-31 05:07:00-07:00</td>\n",
              "      <td>{phillip.allen@enron.com}</td>\n",
              "      <td>{greg.piper@enron.com}</td>\n",
              "      <td>Re: Hello</td>\n",
              "      <td>Phillip K Allen</td>\n",
              "      <td>Greg Piper</td>\n",
              "      <td></td>\n",
              "      <td></td>\n",
              "      <td>\\Phillip_Allen_Dec2000\\Notes Folders\\'sent mail</td>\n",
              "      <td>Allen-P</td>\n",
              "      <td>pallen.nsf</td>\n",
              "      <td>Let's shoot for Tuesday at 11:45.</td>\n",
              "      <td>allen-p</td>\n",
              "      <td>[hello]</td>\n",
              "      <td>[let, shoot, tuesday]</td>\n",
              "      <td>[let, shoot, tuesday]</td>\n",
              "      <td>[let, shoot, tuesday]</td>\n",
              "    </tr>\n",
              "    <tr>\n",
              "      <th>...</th>\n",
              "      <td>...</td>\n",
              "      <td>...</td>\n",
              "      <td>...</td>\n",
              "      <td>...</td>\n",
              "      <td>...</td>\n",
              "      <td>...</td>\n",
              "      <td>...</td>\n",
              "      <td>...</td>\n",
              "      <td>...</td>\n",
              "      <td>...</td>\n",
              "      <td>...</td>\n",
              "      <td>...</td>\n",
              "      <td>...</td>\n",
              "      <td>...</td>\n",
              "      <td>...</td>\n",
              "      <td>...</td>\n",
              "      <td>...</td>\n",
              "    </tr>\n",
              "    <tr>\n",
              "      <th>&lt;12135969.1075844349791.JavaMail.evans@thyme&gt;</th>\n",
              "      <td>2000-03-29 08:09:00-08:00</td>\n",
              "      <td>{sheila.glover@enron.com}</td>\n",
              "      <td>{sara.shackleton@enron.com}</td>\n",
              "      <td>ITG - POSIT</td>\n",
              "      <td>Sheila Glover</td>\n",
              "      <td>Sara Shackleton</td>\n",
              "      <td>David J Vitrella</td>\n",
              "      <td></td>\n",
              "      <td>\\Sara_Shackleton_Dec2000_June2001_1\\Notes Fold...</td>\n",
              "      <td>SHACKLETON-S</td>\n",
              "      <td>sshackle.nsf</td>\n",
              "      <td>Sara,\\nDavid is going to follow-up with his co...</td>\n",
              "      <td>shackleton-s</td>\n",
              "      <td>[itg, posit]</td>\n",
              "      <td>[sara, david, going, follow, contact, posit, t...</td>\n",
              "      <td>[sara, david, go, follow, contact, posit, tomo...</td>\n",
              "      <td>[sara, david, go, follow, contact, posit, tomo...</td>\n",
              "    </tr>\n",
              "    <tr>\n",
              "      <th>&lt;7048674.1075844312445.JavaMail.evans@thyme&gt;</th>\n",
              "      <td>1999-07-06 04:47:00-07:00</td>\n",
              "      <td>{sara.shackleton@enron.com}</td>\n",
              "      <td>{marie.heard@enron.com}</td>\n",
              "      <td>Hedge Fund provisions for inclusion in the ISD...</td>\n",
              "      <td>Sara Shackleton</td>\n",
              "      <td>Marie Heard</td>\n",
              "      <td></td>\n",
              "      <td></td>\n",
              "      <td>\\Sara_Shackleton_Dec2000_June2001_1\\Notes Fold...</td>\n",
              "      <td>SHACKLETON-S</td>\n",
              "      <td>sshackle.nsf</td>\n",
              "      <td>After our meeting, I also agreed to provide su...</td>\n",
              "      <td>shackleton-s</td>\n",
              "      <td>[hedge, fund, provisions, inclusion, isda, sch...</td>\n",
              "      <td>[meeting, also, agreed, provide, suggested, la...</td>\n",
              "      <td>[meeting, also, agree, provide, suggest, langu...</td>\n",
              "      <td>[meeting, also, agree, provide, suggest, langu...</td>\n",
              "    </tr>\n",
              "    <tr>\n",
              "      <th>&lt;25401260.1075844349819.JavaMail.evans@thyme&gt;</th>\n",
              "      <td>2000-03-29 08:14:00-08:00</td>\n",
              "      <td>{shari.stack@enron.com}</td>\n",
              "      <td>{william.stuart@enron.com, darren.delage@enron...</td>\n",
              "      <td>Westpac</td>\n",
              "      <td>Shari Stack</td>\n",
              "      <td>Shane Dallmann, William Stuart, Darren Delage,...</td>\n",
              "      <td>Sara Shackleton, Rod Nelson, Gary Hickerson, L...</td>\n",
              "      <td></td>\n",
              "      <td>\\Sara_Shackleton_Dec2000_June2001_1\\Notes Fold...</td>\n",
              "      <td>SHACKLETON-S</td>\n",
              "      <td>sshackle.nsf</td>\n",
              "      <td>It is still the case that we are having real p...</td>\n",
              "      <td>shackleton-s</td>\n",
              "      <td>[westpac]</td>\n",
              "      <td>[still, case, real, problems, finalizing, isda...</td>\n",
              "      <td>[still, case, real, problem, finalize, isda, m...</td>\n",
              "      <td>[still, case, real, problem, finalize, isda, m...</td>\n",
              "    </tr>\n",
              "    <tr>\n",
              "      <th>&lt;5942884.1075844349842.JavaMail.evans@thyme&gt;</th>\n",
              "      <td>2000-03-29 08:23:00-08:00</td>\n",
              "      <td>{kaye.ellis@enron.com}</td>\n",
              "      <td>{dmitchel@cwt.com}</td>\n",
              "      <td>Pulp &amp; Paper Disclaimer</td>\n",
              "      <td>Kaye Ellis</td>\n",
              "      <td>dmitchel@cwt.com</td>\n",
              "      <td></td>\n",
              "      <td></td>\n",
              "      <td>\\Sara_Shackleton_Dec2000_June2001_1\\Notes Fold...</td>\n",
              "      <td>SHACKLETON-S</td>\n",
              "      <td>sshackle.nsf</td>\n",
              "      <td>David,\\n\\nI am sending you lastest Pulp &amp; Pape...</td>\n",
              "      <td>shackleton-s</td>\n",
              "      <td>[pulp, paper, disclaimer]</td>\n",
              "      <td>[david, sending, lastest, pulp, paper, disclai...</td>\n",
              "      <td>[david, send, last, pulp, paper, disclaimer, s...</td>\n",
              "      <td>[david, send, last, pulp_paper, disclaimer, sa...</td>\n",
              "    </tr>\n",
              "    <tr>\n",
              "      <th>&lt;24070993.1075844349864.JavaMail.evans@thyme&gt;</th>\n",
              "      <td>2000-03-29 08:42:00-08:00</td>\n",
              "      <td>{kaye.ellis@enron.com}</td>\n",
              "      <td>{dmitchel@cwt.com}</td>\n",
              "      <td>Pulp &amp; Paper Disclaimer</td>\n",
              "      <td>Kaye Ellis</td>\n",
              "      <td>dmitchel@cwt.com</td>\n",
              "      <td></td>\n",
              "      <td></td>\n",
              "      <td>\\Sara_Shackleton_Dec2000_June2001_1\\Notes Fold...</td>\n",
              "      <td>SHACKLETON-S</td>\n",
              "      <td>sshackle.nsf</td>\n",
              "      <td>David,\\n\\nI am sending you the latest Pulp &amp; P...</td>\n",
              "      <td>shackleton-s</td>\n",
              "      <td>[pulp, paper, disclaimer]</td>\n",
              "      <td>[david, sending, latest, pulp, paper, disclaim...</td>\n",
              "      <td>[david, send, late, pulp, paper, disclaimer, s...</td>\n",
              "      <td>[david, send, late, pulp_paper, disclaimer, sa...</td>\n",
              "    </tr>\n",
              "  </tbody>\n",
              "</table>\n",
              "<p>517401 rows × 17 columns</p>\n",
              "</div>"
            ],
            "text/plain": [
              "                                                                    Date  ...                              trigram_lemma_content\n",
              "Message-ID                                                                ...                                                   \n",
              "<18782981.1075855378110.JavaMail.evans@thyme>  2001-05-14 16:39:00-07:00  ...                                         [forecast]\n",
              "<15464986.1075855378456.JavaMail.evans@thyme>  2001-05-04 13:51:00-07:00  ...  [travel, business, meeting, take, fun, trip, e...\n",
              "<24216240.1075855687451.JavaMail.evans@thyme>  2000-10-18 03:00:00-07:00  ...                        [test, successful, way, go]\n",
              "<13505866.1075863688222.JavaMail.evans@thyme>  2000-10-23 06:13:00-07:00  ...  [randy, send, schedule, salary, level, everyon...\n",
              "<30922949.1075863688243.JavaMail.evans@thyme>  2000-08-31 05:07:00-07:00  ...                              [let, shoot, tuesday]\n",
              "...                                                                  ...  ...                                                ...\n",
              "<12135969.1075844349791.JavaMail.evans@thyme>  2000-03-29 08:09:00-08:00  ...  [sara, david, go, follow, contact, posit, tomo...\n",
              "<7048674.1075844312445.JavaMail.evans@thyme>   1999-07-06 04:47:00-07:00  ...  [meeting, also, agree, provide, suggest, langu...\n",
              "<25401260.1075844349819.JavaMail.evans@thyme>  2000-03-29 08:14:00-08:00  ...  [still, case, real, problem, finalize, isda, m...\n",
              "<5942884.1075844349842.JavaMail.evans@thyme>   2000-03-29 08:23:00-08:00  ...  [david, send, last, pulp_paper, disclaimer, sa...\n",
              "<24070993.1075844349864.JavaMail.evans@thyme>  2000-03-29 08:42:00-08:00  ...  [david, send, late, pulp_paper, disclaimer, sa...\n",
              "\n",
              "[517401 rows x 17 columns]"
            ]
          },
          "metadata": {
            "tags": []
          },
          "execution_count": 14
        }
      ]
    },
    {
      "cell_type": "code",
      "metadata": {
        "id": "RDVCxwNxng2h",
        "colab_type": "code",
        "outputId": "f6dd44ec-1890-4f54-94b9-f05386315fa0",
        "colab": {
          "base_uri": "https://localhost:8080/",
          "height": 334
        }
      },
      "source": [
        "emails_df.dtypes"
      ],
      "execution_count": 0,
      "outputs": [
        {
          "output_type": "execute_result",
          "data": {
            "text/plain": [
              "Date                     object\n",
              "From                     object\n",
              "To                       object\n",
              "Subject                  object\n",
              "X-From                   object\n",
              "X-To                     object\n",
              "X-cc                     object\n",
              "X-bcc                    object\n",
              "X-Folder                 object\n",
              "X-Origin                 object\n",
              "X-FileName               object\n",
              "content                  object\n",
              "user                     object\n",
              "norm_subject             object\n",
              "norm_content             object\n",
              "lemma_content            object\n",
              "trigram_lemma_content    object\n",
              "dtype: object"
            ]
          },
          "metadata": {
            "tags": []
          },
          "execution_count": 13
        }
      ]
    }
  ]
}