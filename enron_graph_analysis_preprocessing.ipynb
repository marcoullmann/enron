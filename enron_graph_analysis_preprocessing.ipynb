{
  "nbformat": 4,
  "nbformat_minor": 0,
  "metadata": {
    "colab": {
      "name": "enron_graph_analysis_preprocessing",
      "provenance": [],
      "machine_shape": "hm",
      "include_colab_link": true
    },
    "kernelspec": {
      "name": "python3",
      "display_name": "Python 3"
    },
    "accelerator": "GPU"
  },
  "cells": [
    {
      "cell_type": "markdown",
      "metadata": {
        "id": "view-in-github",
        "colab_type": "text"
      },
      "source": [
        "<a href=\"https://colab.research.google.com/github/marcoullmann/enron/blob/master/enron_graph_analysis_preprocessing.ipynb\" target=\"_parent\"><img src=\"https://colab.research.google.com/assets/colab-badge.svg\" alt=\"Open In Colab\"/></a>"
      ]
    },
    {
      "cell_type": "markdown",
      "metadata": {
        "id": "fYy6UMmnOCQK",
        "colab_type": "text"
      },
      "source": [
        "#Preprocessing for network graph analysis\n",
        "This Notebook will transform the Enron email dataset and the calculated topic vector to files, which can be used for Netowrk Graph analysis."
      ]
    },
    {
      "cell_type": "code",
      "metadata": {
        "id": "uVR6x98oAL53",
        "colab_type": "code",
        "outputId": "a7dc5578-1e7e-4efd-e850-1eb1cbb238b2",
        "colab": {
          "base_uri": "https://localhost:8080/",
          "height": 52
        }
      },
      "source": [
        "import glob\n",
        "import pandas as pd\n",
        "import numpy as np\n",
        "import pickle\n",
        "\n",
        "from google.colab import drive\n",
        "drive.mount('/content/drive')\n",
        "%cd \"/content/drive/My Drive/Colab Notebooks/enron/\"\n",
        "\n",
        "num_topics=32"
      ],
      "execution_count": 1,
      "outputs": [
        {
          "output_type": "stream",
          "text": [
            "Drive already mounted at /content/drive; to attempt to forcibly remount, call drive.mount(\"/content/drive\", force_remount=True).\n",
            "/content/drive/My Drive/Colab Notebooks/enron\n"
          ],
          "name": "stdout"
        }
      ]
    },
    {
      "cell_type": "code",
      "metadata": {
        "id": "bg8xXQPLnBOz",
        "colab_type": "code",
        "colab": {}
      },
      "source": [
        "def get_unique_email(df):\n",
        "  from_unique = df.From.unique()\n",
        "  to_unique = df.To.unique()\n",
        "  all_unique =np.unique([*from_unique, *to_unique])\n",
        "\n",
        "  print(\"Unique From addresses: \" + str(len(from_unique)))\n",
        "  print(\"Unique To addresses: \" + str(len(to_unique)))\n",
        "  print(\"Unique overall addresses: \" + str(len(all_unique)))\n",
        "  return all_unique"
      ],
      "execution_count": 0,
      "outputs": []
    },
    {
      "cell_type": "markdown",
      "metadata": {
        "id": "gaE1uw9XtY45",
        "colab_type": "text"
      },
      "source": [
        "## Create vertices\n",
        "Load the eMails and create a row for each interaction between two email addresses."
      ]
    },
    {
      "cell_type": "code",
      "metadata": {
        "id": "ienk5W6iS82O",
        "colab_type": "code",
        "colab": {}
      },
      "source": [
        "files = glob.glob(\"./data/emails_df_*.pkl\")\n",
        "dfs = []\n",
        "for file in files:\n",
        "  df = pd.read_pickle(file)\n",
        "  df.drop(df.columns.difference(['Message-ID', 'From', 'To']), 1, inplace=True)\n",
        "  dfs.append(df)\n",
        "emails_df = pd.concat(dfs)\n",
        "emails_df = emails_df.dropna()"
      ],
      "execution_count": 0,
      "outputs": []
    },
    {
      "cell_type": "code",
      "metadata": {
        "id": "RfzTvPCFmf34",
        "colab_type": "code",
        "colab": {}
      },
      "source": [
        "emails_df['From'] = emails_df['From'].apply(lambda x:next(iter(x)))"
      ],
      "execution_count": 0,
      "outputs": []
    },
    {
      "cell_type": "code",
      "metadata": {
        "id": "sLHntmEQd5vF",
        "colab_type": "code",
        "colab": {}
      },
      "source": [
        "to = emails_df.apply(lambda x: pd.Series(list(x['To'])),axis=1).stack().reset_index(level=1, drop=True)\n",
        "to.name = 'To'\n",
        "emails_df = emails_df.drop('To', axis=1).join(to)"
      ],
      "execution_count": 0,
      "outputs": []
    },
    {
      "cell_type": "code",
      "metadata": {
        "id": "qfxROC9YpY1B",
        "colab_type": "code",
        "colab": {}
      },
      "source": [
        "fromto_df = emails_df.reset_index()"
      ],
      "execution_count": 0,
      "outputs": []
    },
    {
      "cell_type": "code",
      "metadata": {
        "id": "tPFm6lw4Whw0",
        "colab_type": "code",
        "colab": {}
      },
      "source": [
        "# Call this instead of execute the above code (faster)\n",
        "fromto_df = pickle.load( open(\"./data/from_to_links.pkl\", \"rb\") )"
      ],
      "execution_count": 0,
      "outputs": []
    },
    {
      "cell_type": "markdown",
      "metadata": {
        "id": "KBnqE53kO56a",
        "colab_type": "text"
      },
      "source": [
        "One single email can now be on multiple rows:"
      ]
    },
    {
      "cell_type": "code",
      "metadata": {
        "id": "je-t0shollVw",
        "colab_type": "code",
        "outputId": "9e561346-8c5c-4f9b-d94d-d75e084c5d93",
        "colab": {
          "base_uri": "https://localhost:8080/",
          "height": 580
        }
      },
      "source": [
        "fromto_df.loc[fromto_df['Message-ID'] == '<17564024.1075847132119.JavaMail.evans@thyme>']"
      ],
      "execution_count": 5,
      "outputs": [
        {
          "output_type": "execute_result",
          "data": {
            "text/html": [
              "<div>\n",
              "<style scoped>\n",
              "    .dataframe tbody tr th:only-of-type {\n",
              "        vertical-align: middle;\n",
              "    }\n",
              "\n",
              "    .dataframe tbody tr th {\n",
              "        vertical-align: top;\n",
              "    }\n",
              "\n",
              "    .dataframe thead th {\n",
              "        text-align: right;\n",
              "    }\n",
              "</style>\n",
              "<table border=\"1\" class=\"dataframe\">\n",
              "  <thead>\n",
              "    <tr style=\"text-align: right;\">\n",
              "      <th></th>\n",
              "      <th>Message-ID</th>\n",
              "      <th>From</th>\n",
              "      <th>To</th>\n",
              "    </tr>\n",
              "  </thead>\n",
              "  <tbody>\n",
              "    <tr>\n",
              "      <th>774143</th>\n",
              "      <td>&lt;17564024.1075847132119.JavaMail.evans@thyme&gt;</td>\n",
              "      <td>lola.willis@enron.com</td>\n",
              "      <td>thomas.engel@enron.com</td>\n",
              "    </tr>\n",
              "    <tr>\n",
              "      <th>774144</th>\n",
              "      <td>&lt;17564024.1075847132119.JavaMail.evans@thyme&gt;</td>\n",
              "      <td>lola.willis@enron.com</td>\n",
              "      <td>connie.kwan@enron.com</td>\n",
              "    </tr>\n",
              "    <tr>\n",
              "      <th>774145</th>\n",
              "      <td>&lt;17564024.1075847132119.JavaMail.evans@thyme&gt;</td>\n",
              "      <td>lola.willis@enron.com</td>\n",
              "      <td>mary.gosnell@enron.com</td>\n",
              "    </tr>\n",
              "    <tr>\n",
              "      <th>774146</th>\n",
              "      <td>&lt;17564024.1075847132119.JavaMail.evans@thyme&gt;</td>\n",
              "      <td>lola.willis@enron.com</td>\n",
              "      <td>jennifer.denny@enron.com</td>\n",
              "    </tr>\n",
              "    <tr>\n",
              "      <th>774147</th>\n",
              "      <td>&lt;17564024.1075847132119.JavaMail.evans@thyme&gt;</td>\n",
              "      <td>lola.willis@enron.com</td>\n",
              "      <td>francesc.guillen@enron.com</td>\n",
              "    </tr>\n",
              "    <tr>\n",
              "      <th>774148</th>\n",
              "      <td>&lt;17564024.1075847132119.JavaMail.evans@thyme&gt;</td>\n",
              "      <td>lola.willis@enron.com</td>\n",
              "      <td>judy.thorne@enron.com</td>\n",
              "    </tr>\n",
              "    <tr>\n",
              "      <th>774149</th>\n",
              "      <td>&lt;17564024.1075847132119.JavaMail.evans@thyme&gt;</td>\n",
              "      <td>lola.willis@enron.com</td>\n",
              "      <td>mark.taylor@enron.com</td>\n",
              "    </tr>\n",
              "    <tr>\n",
              "      <th>774150</th>\n",
              "      <td>&lt;17564024.1075847132119.JavaMail.evans@thyme&gt;</td>\n",
              "      <td>lola.willis@enron.com</td>\n",
              "      <td>lisa.lees@enron.com</td>\n",
              "    </tr>\n",
              "    <tr>\n",
              "      <th>774151</th>\n",
              "      <td>&lt;17564024.1075847132119.JavaMail.evans@thyme&gt;</td>\n",
              "      <td>lola.willis@enron.com</td>\n",
              "      <td>stephanie.sever@enron.com</td>\n",
              "    </tr>\n",
              "    <tr>\n",
              "      <th>774152</th>\n",
              "      <td>&lt;17564024.1075847132119.JavaMail.evans@thyme&gt;</td>\n",
              "      <td>lola.willis@enron.com</td>\n",
              "      <td>tom.moran@enron.com</td>\n",
              "    </tr>\n",
              "    <tr>\n",
              "      <th>774154</th>\n",
              "      <td>&lt;17564024.1075847132119.JavaMail.evans@thyme&gt;</td>\n",
              "      <td>lola.willis@enron.com</td>\n",
              "      <td>bradley.diebner@enron.com</td>\n",
              "    </tr>\n",
              "    <tr>\n",
              "      <th>774155</th>\n",
              "      <td>&lt;17564024.1075847132119.JavaMail.evans@thyme&gt;</td>\n",
              "      <td>lola.willis@enron.com</td>\n",
              "      <td>steve.venturatos@enron.com</td>\n",
              "    </tr>\n",
              "    <tr>\n",
              "      <th>774156</th>\n",
              "      <td>&lt;17564024.1075847132119.JavaMail.evans@thyme&gt;</td>\n",
              "      <td>lola.willis@enron.com</td>\n",
              "      <td>sheri.thomas@enron.com</td>\n",
              "    </tr>\n",
              "    <tr>\n",
              "      <th>774157</th>\n",
              "      <td>&lt;17564024.1075847132119.JavaMail.evans@thyme&gt;</td>\n",
              "      <td>lola.willis@enron.com</td>\n",
              "      <td>ajay.sindwani@enron.com</td>\n",
              "    </tr>\n",
              "    <tr>\n",
              "      <th>774158</th>\n",
              "      <td>&lt;17564024.1075847132119.JavaMail.evans@thyme&gt;</td>\n",
              "      <td>lola.willis@enron.com</td>\n",
              "      <td>tana.jones@enron.com</td>\n",
              "    </tr>\n",
              "    <tr>\n",
              "      <th>774159</th>\n",
              "      <td>&lt;17564024.1075847132119.JavaMail.evans@thyme&gt;</td>\n",
              "      <td>lola.willis@enron.com</td>\n",
              "      <td>karen.lambert@enron.com</td>\n",
              "    </tr>\n",
              "    <tr>\n",
              "      <th>774160</th>\n",
              "      <td>&lt;17564024.1075847132119.JavaMail.evans@thyme&gt;</td>\n",
              "      <td>lola.willis@enron.com</td>\n",
              "      <td>laura.levy@enron.com</td>\n",
              "    </tr>\n",
              "    <tr>\n",
              "      <th>774161</th>\n",
              "      <td>&lt;17564024.1075847132119.JavaMail.evans@thyme&gt;</td>\n",
              "      <td>lola.willis@enron.com</td>\n",
              "      <td>frank.davis@enron.com</td>\n",
              "    </tr>\n",
              "  </tbody>\n",
              "</table>\n",
              "</div>"
            ],
            "text/plain": [
              "                                           Message-ID  ...                          To\n",
              "774143  <17564024.1075847132119.JavaMail.evans@thyme>  ...      thomas.engel@enron.com\n",
              "774144  <17564024.1075847132119.JavaMail.evans@thyme>  ...       connie.kwan@enron.com\n",
              "774145  <17564024.1075847132119.JavaMail.evans@thyme>  ...      mary.gosnell@enron.com\n",
              "774146  <17564024.1075847132119.JavaMail.evans@thyme>  ...    jennifer.denny@enron.com\n",
              "774147  <17564024.1075847132119.JavaMail.evans@thyme>  ...  francesc.guillen@enron.com\n",
              "774148  <17564024.1075847132119.JavaMail.evans@thyme>  ...       judy.thorne@enron.com\n",
              "774149  <17564024.1075847132119.JavaMail.evans@thyme>  ...       mark.taylor@enron.com\n",
              "774150  <17564024.1075847132119.JavaMail.evans@thyme>  ...         lisa.lees@enron.com\n",
              "774151  <17564024.1075847132119.JavaMail.evans@thyme>  ...   stephanie.sever@enron.com\n",
              "774152  <17564024.1075847132119.JavaMail.evans@thyme>  ...         tom.moran@enron.com\n",
              "774154  <17564024.1075847132119.JavaMail.evans@thyme>  ...   bradley.diebner@enron.com\n",
              "774155  <17564024.1075847132119.JavaMail.evans@thyme>  ...  steve.venturatos@enron.com\n",
              "774156  <17564024.1075847132119.JavaMail.evans@thyme>  ...      sheri.thomas@enron.com\n",
              "774157  <17564024.1075847132119.JavaMail.evans@thyme>  ...     ajay.sindwani@enron.com\n",
              "774158  <17564024.1075847132119.JavaMail.evans@thyme>  ...        tana.jones@enron.com\n",
              "774159  <17564024.1075847132119.JavaMail.evans@thyme>  ...     karen.lambert@enron.com\n",
              "774160  <17564024.1075847132119.JavaMail.evans@thyme>  ...        laura.levy@enron.com\n",
              "774161  <17564024.1075847132119.JavaMail.evans@thyme>  ...       frank.davis@enron.com\n",
              "\n",
              "[18 rows x 3 columns]"
            ]
          },
          "metadata": {
            "tags": []
          },
          "execution_count": 5
        }
      ]
    },
    {
      "cell_type": "markdown",
      "metadata": {
        "id": "K5I90AnqPDZH",
        "colab_type": "text"
      },
      "source": [
        "Some data cleansing. Remove rows with invalid email addresses."
      ]
    },
    {
      "cell_type": "code",
      "metadata": {
        "id": "UCMEHRT6JBju",
        "colab_type": "code",
        "colab": {
          "base_uri": "https://localhost:8080/",
          "height": 52
        },
        "outputId": "abe6db80-8acb-4a64-e308-93be039c4fae"
      },
      "source": [
        "email_pattern = \"(^[a-zA-Z0-9_.+-]+@[a-zA-Z0-9-]+\\.[a-zA-Z0-9-.]+$)\"\n",
        "valid_from_email_filter = fromto_df['From'].str.contains(email_pattern) \n",
        "valid_to_email_filter = fromto_df['To'].str.contains(email_pattern)"
      ],
      "execution_count": 6,
      "outputs": [
        {
          "output_type": "stream",
          "text": [
            "/usr/local/lib/python3.6/dist-packages/pandas/core/strings.py:1843: UserWarning: This pattern has match groups. To actually get the groups, use str.extract.\n",
            "  return func(self, *args, **kwargs)\n"
          ],
          "name": "stderr"
        }
      ]
    },
    {
      "cell_type": "code",
      "metadata": {
        "id": "QFqcNOhPLW3L",
        "colab_type": "code",
        "colab": {}
      },
      "source": [
        "fromto_df = fromto_df[valid_from_email_filter & valid_to_email_filter]"
      ],
      "execution_count": 0,
      "outputs": []
    },
    {
      "cell_type": "code",
      "metadata": {
        "id": "aRwHcNw0qg-K",
        "colab_type": "code",
        "colab": {
          "base_uri": "https://localhost:8080/",
          "height": 70
        },
        "outputId": "6501f696-7784-4736-f64e-408297f678f1"
      },
      "source": [
        "vertices = pd.DataFrame(get_unique_email(fromto_df))\n",
        "vertices.columns = ['id']"
      ],
      "execution_count": 8,
      "outputs": [
        {
          "output_type": "stream",
          "text": [
            "Unique From addresses: 19529\n",
            "Unique To addresses: 65911\n",
            "Unique overall addresses: 74988\n"
          ],
          "name": "stdout"
        }
      ]
    },
    {
      "cell_type": "code",
      "metadata": {
        "id": "OIlUKe-3rB_k",
        "colab_type": "code",
        "colab": {}
      },
      "source": [
        "# pickle.dump(fromto_df, open('./data/from_to_links.pkl', 'wb'))\n",
        "vertices.columns = vertices.columns.astype(str)\n",
        "vertices.to_parquet(\"./data/vertices.parquet\")"
      ],
      "execution_count": 0,
      "outputs": []
    },
    {
      "cell_type": "markdown",
      "metadata": {
        "id": "ZWRKcnAmrKZJ",
        "colab_type": "text"
      },
      "source": [
        "### Filter out all external people and people with less than 200 interactions in general and less than 5 interactions between two people.\n",
        "\n",
        "\n"
      ]
    },
    {
      "cell_type": "code",
      "metadata": {
        "id": "Axy-_7QFknPE",
        "colab_type": "code",
        "colab": {
          "base_uri": "https://localhost:8080/",
          "height": 158
        },
        "outputId": "68b9be46-1377-4328-cba2-d72ce78fd6e5"
      },
      "source": [
        "print(\"fromto_df.shape: \" + str(fromto_df.shape))\n",
        "\n",
        "from_enron_filter = fromto_df['From'].str.contains(\"@enron.com\")\n",
        "to_enron_filter = fromto_df['To'].str.contains(\"@enron.com\")\n",
        "same_address_filter = fromto_df.From == fromto_df.To\n",
        "\n",
        "fromto_enron_df = fromto_df[from_enron_filter & to_enron_filter & ~same_address_filter]\n",
        "print(\"fromto_enron_df.shape: \" + str(fromto_enron_df.shape))\n",
        "get_unique_email(fromto_enron_df)"
      ],
      "execution_count": 10,
      "outputs": [
        {
          "output_type": "stream",
          "text": [
            "fromto_df.shape: (3055344, 3)\n",
            "fromto_enron_df.shape: (2435508, 3)\n",
            "Unique From addresses: 6228\n",
            "Unique To addresses: 18339\n",
            "Unique overall addresses: 19035\n"
          ],
          "name": "stdout"
        },
        {
          "output_type": "execute_result",
          "data": {
            "text/plain": [
              "array(['.brady@enron.com', '.dow@enron.com', '.eber@enron.com', ...,\n",
              "       'zuzana.strmenova@enron.com', 'zyhorie.allyson@enron.com',\n",
              "       'zykorie.allyson@enron.com'], dtype='<U49')"
            ]
          },
          "metadata": {
            "tags": []
          },
          "execution_count": 10
        }
      ]
    },
    {
      "cell_type": "code",
      "metadata": {
        "id": "uDaG4KjLoAiq",
        "colab_type": "code",
        "colab": {
          "base_uri": "https://localhost:8080/",
          "height": 70
        },
        "outputId": "47c56236-e7d6-45e0-bd9d-581e272ab691"
      },
      "source": [
        "fromto_enron_from_df = fromto_enron_df.groupby('From').agg('count')['Message-ID'].to_frame().reset_index().sort_values(by='Message-ID', ascending=False)\n",
        "fromto_enron_to_df = fromto_enron_df.groupby('To').agg('count')['Message-ID'].to_frame().reset_index().sort_values(by='Message-ID', ascending=False)\n",
        "\n",
        "from_unique = fromto_enron_from_df[fromto_enron_from_df['Message-ID']>200].From.unique()\n",
        "to_unique = fromto_enron_to_df[fromto_enron_to_df['Message-ID']>200].To.unique()\n",
        "all_unique =np.unique([*from_unique, *to_unique])\n",
        "\n",
        "print(\"Unique From addresses: \" + str(len(from_unique)))\n",
        "print(\"Unique To addresses: \" + str(len(to_unique)))\n",
        "print(\"Unique overall addresses: \" + str(len(all_unique)))"
      ],
      "execution_count": 11,
      "outputs": [
        {
          "output_type": "stream",
          "text": [
            "Unique From addresses: 1054\n",
            "Unique To addresses: 2266\n",
            "Unique overall addresses: 2605\n"
          ],
          "name": "stdout"
        }
      ]
    },
    {
      "cell_type": "code",
      "metadata": {
        "id": "2XsSiJlFp89C",
        "colab_type": "code",
        "colab": {}
      },
      "source": [
        "vertices_small = pd.DataFrame(all_unique)\n",
        "vertices_small.columns = ['id']"
      ],
      "execution_count": 0,
      "outputs": []
    },
    {
      "cell_type": "code",
      "metadata": {
        "id": "7eBr4sgPUc2R",
        "colab_type": "code",
        "colab": {}
      },
      "source": [
        "# pickle.dump(vertices_small, open('./data/vertices_small.pkl', 'wb'))\n",
        "vertices_small.columns = vertices_small.columns.astype(str)\n",
        "vertices_small.to_parquet(\"./data/vertices_small.parquet\")"
      ],
      "execution_count": 0,
      "outputs": []
    },
    {
      "cell_type": "markdown",
      "metadata": {
        "id": "-EEYe2Jxtphw",
        "colab_type": "text"
      },
      "source": [
        "#Create edges"
      ]
    },
    {
      "cell_type": "code",
      "metadata": {
        "id": "8y0TKHv9tsk-",
        "colab_type": "code",
        "colab": {
          "base_uri": "https://localhost:8080/",
          "height": 34
        },
        "outputId": "20e933da-5c19-43d4-c3ad-d977e97a44c7"
      },
      "source": [
        "files = glob.glob(\"./data/emails_df_*.pkl\")\n",
        "dfs = []\n",
        "for file in files:\n",
        "  df = pd.read_pickle(file)\n",
        "  df.drop(df.columns.difference(['Message-ID','Date']), 1, inplace=True)\n",
        "  dfs.append(df)\n",
        "emails_df = pd.concat(dfs)\n",
        "print(\"emails_df.shape: \" + str(emails_df.shape))"
      ],
      "execution_count": 14,
      "outputs": [
        {
          "output_type": "stream",
          "text": [
            "emails_df.shape: (517401, 1)\n"
          ],
          "name": "stdout"
        }
      ]
    },
    {
      "cell_type": "code",
      "metadata": {
        "id": "pUomzDLZt_ub",
        "colab_type": "code",
        "colab": {
          "base_uri": "https://localhost:8080/",
          "height": 34
        },
        "outputId": "385e0076-bcf8-4123-91eb-8c157525763f"
      },
      "source": [
        "topic_vector = pickle.load( open(\"./model/topic_vector.pkl\", \"rb\") )\n",
        "topic_vector_df = pd.DataFrame(topic_vector, columns=range(num_topics)).applymap(lambda x: x[1])\n",
        "print(\"topic_vector_df.shape: \" + str(topic_vector_df.shape))"
      ],
      "execution_count": 15,
      "outputs": [
        {
          "output_type": "stream",
          "text": [
            "topic_vector_df.shape: (517401, 32)\n"
          ],
          "name": "stdout"
        }
      ]
    },
    {
      "cell_type": "code",
      "metadata": {
        "id": "PrOXm2pNuDIT",
        "colab_type": "code",
        "colab": {}
      },
      "source": [
        "emails_topic_vector_df = pd.concat([emails_df.reset_index(), topic_vector_df.reset_index(drop=True)], axis=1)"
      ],
      "execution_count": 0,
      "outputs": []
    },
    {
      "cell_type": "code",
      "metadata": {
        "id": "XYx-vFTJuFr6",
        "colab_type": "code",
        "colab": {}
      },
      "source": [
        "edges = pd.merge(fromto_df, emails_topic_vector_df, how='left', on='Message-ID')\n",
        "edges.columns = edges.columns.astype(str)\n",
        "edges.to_parquet(\"./data/edges.parquet\")"
      ],
      "execution_count": 0,
      "outputs": []
    },
    {
      "cell_type": "markdown",
      "metadata": {
        "id": "t2LORe9eVK42",
        "colab_type": "text"
      },
      "source": [
        "###Filter out all external people and people with less than 200 interactions."
      ]
    },
    {
      "cell_type": "code",
      "metadata": {
        "id": "l-56A_TcVMqR",
        "colab_type": "code",
        "colab": {}
      },
      "source": [
        "edges_small = pd.merge(fromto_enron_df, emails_topic_vector_df, how='left', on='Message-ID')\n",
        "edges_small.columns = edges_small.columns.astype(str)\n",
        "edges_small.to_parquet(\"./data/edges_small.parquet\")"
      ],
      "execution_count": 0,
      "outputs": []
    },
    {
      "cell_type": "code",
      "metadata": {
        "id": "U_ZiK1kCpir4",
        "colab_type": "code",
        "colab": {
          "base_uri": "https://localhost:8080/",
          "height": 52
        },
        "outputId": "e9c8aa8e-1d87-4bc8-a1dc-265aa0bc095a"
      },
      "source": [
        "fields = {'Message-ID':'count'}\n",
        "for i in range(0,num_topics):\n",
        "  fields[str(i)] = 'sum' \n",
        "print(\"edges_small.shape: \" + str(edges_small.shape))\n",
        "edges_small_agg = edges_small.groupby(['From','To']).agg(fields).sort_values('Message-ID').reset_index()\n",
        "print(\"edges_small_agg.shape: \" + str(edges_small_agg.shape))"
      ],
      "execution_count": 19,
      "outputs": [
        {
          "output_type": "stream",
          "text": [
            "edges_small.shape: (2435508, 36)\n",
            "edges_small_agg.shape: (194042, 35)\n"
          ],
          "name": "stdout"
        }
      ]
    },
    {
      "cell_type": "code",
      "metadata": {
        "id": "VY3fcCRnc0Mf",
        "colab_type": "code",
        "colab": {}
      },
      "source": [
        "edges_small_agg = edges_small_agg[edges_small_agg['Message-ID']>3]"
      ],
      "execution_count": 0,
      "outputs": []
    },
    {
      "cell_type": "code",
      "metadata": {
        "id": "jIn3xHwhm1EJ",
        "colab_type": "code",
        "colab": {}
      },
      "source": [
        "edges_small_agg.to_parquet(\"./data/edges_small_agg.parquet\")"
      ],
      "execution_count": 0,
      "outputs": []
    },
    {
      "cell_type": "markdown",
      "metadata": {
        "id": "_VR4xvKkMAib",
        "colab_type": "text"
      },
      "source": [
        "###Vertices with aggregated topics"
      ]
    },
    {
      "cell_type": "code",
      "metadata": {
        "id": "dc98IaK4L_yt",
        "colab_type": "code",
        "colab": {}
      },
      "source": [
        "from_agg_df = edges_small.groupby(['From']).agg(fields).sort_values('Message-ID').reset_index()\n",
        "#from_agg_df.drop('Message-ID', inplace=True)\n",
        "from_agg_df.rename(columns={\"From\": \"id\"}, inplace = True)\n",
        "\n",
        "to_agg_df = edges_small.groupby(['To']).agg(fields).sort_values('Message-ID').reset_index()\n",
        "#to_agg_df.drop('Message-ID', inplace=True)\n",
        "to_agg_df.rename(columns={\"To\": \"id\"}, inplace=True)\n",
        "\n",
        "# Assumption: Weight of received emails is 0.5 compared to sent emails\n",
        "ranger = [str(x) for x in range(0,num_topics)]\n",
        "to_agg_df[ranger] = to_agg_df[ranger].apply(lambda x: x/2)"
      ],
      "execution_count": 0,
      "outputs": []
    },
    {
      "cell_type": "code",
      "metadata": {
        "id": "p38PeFYPNwid",
        "colab_type": "code",
        "colab": {}
      },
      "source": [
        "vertices_small_agg = pd.concat([from_agg_df,to_agg_df]).groupby(['id']).agg(fields).sort_values('Message-ID').reset_index()"
      ],
      "execution_count": 0,
      "outputs": []
    },
    {
      "cell_type": "code",
      "metadata": {
        "id": "waYGcVjKUvLr",
        "colab_type": "code",
        "colab": {
          "base_uri": "https://localhost:8080/",
          "height": 332
        },
        "outputId": "3bbddec3-afb2-41ce-ffca-f61bd5971424"
      },
      "source": [
        "vertices_small_agg = vertices_small_agg[vertices_small_agg.id.isin(vertices_small.id)]\n",
        "vertices_small_agg.drop('Message-ID', inplace=True)"
      ],
      "execution_count": 24,
      "outputs": [
        {
          "output_type": "error",
          "ename": "KeyError",
          "evalue": "ignored",
          "traceback": [
            "\u001b[0;31m---------------------------------------------------------------------------\u001b[0m",
            "\u001b[0;31mKeyError\u001b[0m                                  Traceback (most recent call last)",
            "\u001b[0;32m<ipython-input-24-15b8931777fe>\u001b[0m in \u001b[0;36m<module>\u001b[0;34m()\u001b[0m\n\u001b[1;32m      1\u001b[0m \u001b[0mvertices_small_agg\u001b[0m \u001b[0;34m=\u001b[0m \u001b[0mvertices_small_agg\u001b[0m\u001b[0;34m[\u001b[0m\u001b[0mvertices_small_agg\u001b[0m\u001b[0;34m.\u001b[0m\u001b[0mid\u001b[0m\u001b[0;34m.\u001b[0m\u001b[0misin\u001b[0m\u001b[0;34m(\u001b[0m\u001b[0mvertices_small\u001b[0m\u001b[0;34m.\u001b[0m\u001b[0mid\u001b[0m\u001b[0;34m)\u001b[0m\u001b[0;34m]\u001b[0m\u001b[0;34m\u001b[0m\u001b[0;34m\u001b[0m\u001b[0m\n\u001b[0;32m----> 2\u001b[0;31m \u001b[0mvertices_small_agg\u001b[0m\u001b[0;34m.\u001b[0m\u001b[0mdrop\u001b[0m\u001b[0;34m(\u001b[0m\u001b[0;34m'Message-ID'\u001b[0m\u001b[0;34m,\u001b[0m \u001b[0minplace\u001b[0m\u001b[0;34m=\u001b[0m\u001b[0;32mTrue\u001b[0m\u001b[0;34m)\u001b[0m\u001b[0;34m\u001b[0m\u001b[0;34m\u001b[0m\u001b[0m\n\u001b[0m",
            "\u001b[0;32m/usr/local/lib/python3.6/dist-packages/pandas/core/frame.py\u001b[0m in \u001b[0;36mdrop\u001b[0;34m(self, labels, axis, index, columns, level, inplace, errors)\u001b[0m\n\u001b[1;32m   4115\u001b[0m             \u001b[0mlevel\u001b[0m\u001b[0;34m=\u001b[0m\u001b[0mlevel\u001b[0m\u001b[0;34m,\u001b[0m\u001b[0;34m\u001b[0m\u001b[0;34m\u001b[0m\u001b[0m\n\u001b[1;32m   4116\u001b[0m             \u001b[0minplace\u001b[0m\u001b[0;34m=\u001b[0m\u001b[0minplace\u001b[0m\u001b[0;34m,\u001b[0m\u001b[0;34m\u001b[0m\u001b[0;34m\u001b[0m\u001b[0m\n\u001b[0;32m-> 4117\u001b[0;31m             \u001b[0merrors\u001b[0m\u001b[0;34m=\u001b[0m\u001b[0merrors\u001b[0m\u001b[0;34m,\u001b[0m\u001b[0;34m\u001b[0m\u001b[0;34m\u001b[0m\u001b[0m\n\u001b[0m\u001b[1;32m   4118\u001b[0m         )\n\u001b[1;32m   4119\u001b[0m \u001b[0;34m\u001b[0m\u001b[0m\n",
            "\u001b[0;32m/usr/local/lib/python3.6/dist-packages/pandas/core/generic.py\u001b[0m in \u001b[0;36mdrop\u001b[0;34m(self, labels, axis, index, columns, level, inplace, errors)\u001b[0m\n\u001b[1;32m   3912\u001b[0m         \u001b[0;32mfor\u001b[0m \u001b[0maxis\u001b[0m\u001b[0;34m,\u001b[0m \u001b[0mlabels\u001b[0m \u001b[0;32min\u001b[0m \u001b[0maxes\u001b[0m\u001b[0;34m.\u001b[0m\u001b[0mitems\u001b[0m\u001b[0;34m(\u001b[0m\u001b[0;34m)\u001b[0m\u001b[0;34m:\u001b[0m\u001b[0;34m\u001b[0m\u001b[0;34m\u001b[0m\u001b[0m\n\u001b[1;32m   3913\u001b[0m             \u001b[0;32mif\u001b[0m \u001b[0mlabels\u001b[0m \u001b[0;32mis\u001b[0m \u001b[0;32mnot\u001b[0m \u001b[0;32mNone\u001b[0m\u001b[0;34m:\u001b[0m\u001b[0;34m\u001b[0m\u001b[0;34m\u001b[0m\u001b[0m\n\u001b[0;32m-> 3914\u001b[0;31m                 \u001b[0mobj\u001b[0m \u001b[0;34m=\u001b[0m \u001b[0mobj\u001b[0m\u001b[0;34m.\u001b[0m\u001b[0m_drop_axis\u001b[0m\u001b[0;34m(\u001b[0m\u001b[0mlabels\u001b[0m\u001b[0;34m,\u001b[0m \u001b[0maxis\u001b[0m\u001b[0;34m,\u001b[0m \u001b[0mlevel\u001b[0m\u001b[0;34m=\u001b[0m\u001b[0mlevel\u001b[0m\u001b[0;34m,\u001b[0m \u001b[0merrors\u001b[0m\u001b[0;34m=\u001b[0m\u001b[0merrors\u001b[0m\u001b[0;34m)\u001b[0m\u001b[0;34m\u001b[0m\u001b[0;34m\u001b[0m\u001b[0m\n\u001b[0m\u001b[1;32m   3915\u001b[0m \u001b[0;34m\u001b[0m\u001b[0m\n\u001b[1;32m   3916\u001b[0m         \u001b[0;32mif\u001b[0m \u001b[0minplace\u001b[0m\u001b[0;34m:\u001b[0m\u001b[0;34m\u001b[0m\u001b[0;34m\u001b[0m\u001b[0m\n",
            "\u001b[0;32m/usr/local/lib/python3.6/dist-packages/pandas/core/generic.py\u001b[0m in \u001b[0;36m_drop_axis\u001b[0;34m(self, labels, axis, level, errors)\u001b[0m\n\u001b[1;32m   3944\u001b[0m                 \u001b[0mnew_axis\u001b[0m \u001b[0;34m=\u001b[0m \u001b[0maxis\u001b[0m\u001b[0;34m.\u001b[0m\u001b[0mdrop\u001b[0m\u001b[0;34m(\u001b[0m\u001b[0mlabels\u001b[0m\u001b[0;34m,\u001b[0m \u001b[0mlevel\u001b[0m\u001b[0;34m=\u001b[0m\u001b[0mlevel\u001b[0m\u001b[0;34m,\u001b[0m \u001b[0merrors\u001b[0m\u001b[0;34m=\u001b[0m\u001b[0merrors\u001b[0m\u001b[0;34m)\u001b[0m\u001b[0;34m\u001b[0m\u001b[0;34m\u001b[0m\u001b[0m\n\u001b[1;32m   3945\u001b[0m             \u001b[0;32melse\u001b[0m\u001b[0;34m:\u001b[0m\u001b[0;34m\u001b[0m\u001b[0;34m\u001b[0m\u001b[0m\n\u001b[0;32m-> 3946\u001b[0;31m                 \u001b[0mnew_axis\u001b[0m \u001b[0;34m=\u001b[0m \u001b[0maxis\u001b[0m\u001b[0;34m.\u001b[0m\u001b[0mdrop\u001b[0m\u001b[0;34m(\u001b[0m\u001b[0mlabels\u001b[0m\u001b[0;34m,\u001b[0m \u001b[0merrors\u001b[0m\u001b[0;34m=\u001b[0m\u001b[0merrors\u001b[0m\u001b[0;34m)\u001b[0m\u001b[0;34m\u001b[0m\u001b[0;34m\u001b[0m\u001b[0m\n\u001b[0m\u001b[1;32m   3947\u001b[0m             \u001b[0mresult\u001b[0m \u001b[0;34m=\u001b[0m \u001b[0mself\u001b[0m\u001b[0;34m.\u001b[0m\u001b[0mreindex\u001b[0m\u001b[0;34m(\u001b[0m\u001b[0;34m**\u001b[0m\u001b[0;34m{\u001b[0m\u001b[0maxis_name\u001b[0m\u001b[0;34m:\u001b[0m \u001b[0mnew_axis\u001b[0m\u001b[0;34m}\u001b[0m\u001b[0;34m)\u001b[0m\u001b[0;34m\u001b[0m\u001b[0;34m\u001b[0m\u001b[0m\n\u001b[1;32m   3948\u001b[0m \u001b[0;34m\u001b[0m\u001b[0m\n",
            "\u001b[0;32m/usr/local/lib/python3.6/dist-packages/pandas/core/indexes/base.py\u001b[0m in \u001b[0;36mdrop\u001b[0;34m(self, labels, errors)\u001b[0m\n\u001b[1;32m   5338\u001b[0m         \u001b[0;32mif\u001b[0m \u001b[0mmask\u001b[0m\u001b[0;34m.\u001b[0m\u001b[0many\u001b[0m\u001b[0;34m(\u001b[0m\u001b[0;34m)\u001b[0m\u001b[0;34m:\u001b[0m\u001b[0;34m\u001b[0m\u001b[0;34m\u001b[0m\u001b[0m\n\u001b[1;32m   5339\u001b[0m             \u001b[0;32mif\u001b[0m \u001b[0merrors\u001b[0m \u001b[0;34m!=\u001b[0m \u001b[0;34m\"ignore\"\u001b[0m\u001b[0;34m:\u001b[0m\u001b[0;34m\u001b[0m\u001b[0;34m\u001b[0m\u001b[0m\n\u001b[0;32m-> 5340\u001b[0;31m                 \u001b[0;32mraise\u001b[0m \u001b[0mKeyError\u001b[0m\u001b[0;34m(\u001b[0m\u001b[0;34m\"{} not found in axis\"\u001b[0m\u001b[0;34m.\u001b[0m\u001b[0mformat\u001b[0m\u001b[0;34m(\u001b[0m\u001b[0mlabels\u001b[0m\u001b[0;34m[\u001b[0m\u001b[0mmask\u001b[0m\u001b[0;34m]\u001b[0m\u001b[0;34m)\u001b[0m\u001b[0;34m)\u001b[0m\u001b[0;34m\u001b[0m\u001b[0;34m\u001b[0m\u001b[0m\n\u001b[0m\u001b[1;32m   5341\u001b[0m             \u001b[0mindexer\u001b[0m \u001b[0;34m=\u001b[0m \u001b[0mindexer\u001b[0m\u001b[0;34m[\u001b[0m\u001b[0;34m~\u001b[0m\u001b[0mmask\u001b[0m\u001b[0;34m]\u001b[0m\u001b[0;34m\u001b[0m\u001b[0;34m\u001b[0m\u001b[0m\n\u001b[1;32m   5342\u001b[0m         \u001b[0;32mreturn\u001b[0m \u001b[0mself\u001b[0m\u001b[0;34m.\u001b[0m\u001b[0mdelete\u001b[0m\u001b[0;34m(\u001b[0m\u001b[0mindexer\u001b[0m\u001b[0;34m)\u001b[0m\u001b[0;34m\u001b[0m\u001b[0;34m\u001b[0m\u001b[0m\n",
            "\u001b[0;31mKeyError\u001b[0m: \"['Message-ID'] not found in axis\""
          ]
        }
      ]
    },
    {
      "cell_type": "code",
      "metadata": {
        "id": "yL64b6tcQT-L",
        "colab_type": "code",
        "colab": {}
      },
      "source": [
        "vertices_small_agg.to_parquet(\"./data/vertices_small_agg.parquet\")"
      ],
      "execution_count": 0,
      "outputs": []
    }
  ]
}